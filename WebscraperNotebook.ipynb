{
  "nbformat": 4,
  "nbformat_minor": 0,
  "metadata": {
    "colab": {
      "name": "HW1_BenjaminDinh.ipynb",
      "provenance": [],
      "authorship_tag": "ABX9TyOE2WlXwK9jbRcr55dPYPyc",
      "include_colab_link": true
    },
    "kernelspec": {
      "name": "python3",
      "display_name": "Python 3"
    }
  },
  "cells": [
    {
      "cell_type": "markdown",
      "metadata": {
        "id": "view-in-github",
        "colab_type": "text"
      },
      "source": [
        "<a href=\"https://colab.research.google.com/github/benjamin-dinh/IMDb_webscraper/blob/main/HW1_BenjaminDinh.ipynb\" target=\"_parent\"><img src=\"https://colab.research.google.com/assets/colab-badge.svg\" alt=\"Open In Colab\"/></a>"
      ]
    },
    {
      "cell_type": "markdown",
      "metadata": {
        "id": "jPZ2apn6_j7G"
      },
      "source": [
        "# **1. Data Scraping**"
      ]
    },
    {
      "cell_type": "code",
      "metadata": {
        "id": "JKpF6srsyWyd"
      },
      "source": [
        "import requests\n",
        "from IPython.core.display import HTML"
      ],
      "execution_count": null,
      "outputs": []
    },
    {
      "cell_type": "code",
      "metadata": {
        "id": "RA0-VZRRd_LI"
      },
      "source": [
        "import numpy as np\n",
        "import pandas as pd\n",
        "\n",
        "import requests\n",
        "from bs4 import BeautifulSoup\n",
        "from IPython.display import HTML\n",
        "url1 = \"https://www.imdb.com/list/ls068082370/\"\n",
        "url2 = \"https://www.imdb.com/list/ls068082370/?sort=list_order,asc&st_dt=&mode=detail&page=2\"\n",
        "url3 = \"https://www.imdb.com/list/ls068082370/?sort=list_order,asc&st_dt=&mode=detail&page=3\""
      ],
      "execution_count": null,
      "outputs": []
    },
    {
      "cell_type": "code",
      "metadata": {
        "id": "FowIV-JPeA-l"
      },
      "source": [
        "headers = {'Accept-Language':'en-US,en'}\n",
        "page1 = requests.get(url1, headers=headers)\n",
        "page2 = requests.get(url2, headers=headers)\n",
        "page3 = requests.get(url3, headers=headers)"
      ],
      "execution_count": null,
      "outputs": []
    },
    {
      "cell_type": "code",
      "metadata": {
        "id": "NKlBoPabxT1G"
      },
      "source": [
        "soup1 = BeautifulSoup(page1.content, 'html.parser')\n",
        "soup2 = BeautifulSoup(page2.content, 'html.parser')\n",
        "soup3 = BeautifulSoup(page3.content, 'html.parser')\n",
        "movies1 = soup1.select('div.lister-item.mode-detail')\n",
        "movies2 = soup2.select('div.lister-item.mode-detail')\n",
        "movies3 = soup3.select('div.lister-item.mode-detail')"
      ],
      "execution_count": null,
      "outputs": []
    },
    {
      "cell_type": "code",
      "metadata": {
        "id": "IHKoAi8Er9Kj"
      },
      "source": [
        "def get_movie_title(movie_node):\n",
        "    movie_node = movie_node.select_one('h3 a')\n",
        "    if not movie_node:\n",
        "        return None\n",
        "    return movie_node.text[:]"
      ],
      "execution_count": null,
      "outputs": []
    },
    {
      "cell_type": "code",
      "metadata": {
        "id": "JS8FNkSJnnk5"
      },
      "source": [
        "def get_movie_year(movie_node):\n",
        "    movie_node = movie_node.select_one('span.lister-item-year')\n",
        "    if not movie_node:\n",
        "        return None\n",
        "    return movie_node.text[1:-1]"
      ],
      "execution_count": null,
      "outputs": []
    },
    {
      "cell_type": "code",
      "metadata": {
        "id": "h3qxOFtgoUam"
      },
      "source": [
        "def get_movie_rating(movie_node):\n",
        "    movie_node = movie_node.select_one('span.ipl-rating-star__rating')\n",
        "    if not movie_node:\n",
        "        return None\n",
        "    return movie_node.text[:]"
      ],
      "execution_count": null,
      "outputs": []
    },
    {
      "cell_type": "code",
      "metadata": {
        "id": "8eztMulQoVp_"
      },
      "source": [
        "def get_movie_genre(movie_node):\n",
        "    movie_node = movie_node.select_one('span.genre')\n",
        "    if not movie_node:\n",
        "        return None\n",
        "    movie_node = movie_node.text.strip()\n",
        "    return movie_node.split(',')[0]"
      ],
      "execution_count": null,
      "outputs": []
    },
    {
      "cell_type": "code",
      "metadata": {
        "id": "xf6WLFy1oV-N"
      },
      "source": [
        "def get_movie_director(movie_node):\n",
        "    movie_node = movie_node.select_one('p.text-muted.text-small a')\n",
        "    if not movie_node:\n",
        "        return None\n",
        "    return movie_node.text[:]"
      ],
      "execution_count": null,
      "outputs": []
    },
    {
      "cell_type": "code",
      "metadata": {
        "id": "CTrGklsdobp7"
      },
      "source": [
        "def get_movie_votes(movie_node):\n",
        "    movie_node = movie_node.find('span', {'name':'nv'})\n",
        "    if not movie_node:\n",
        "        return None\n",
        "    return int(movie_node.text[:].replace(',',''))"
      ],
      "execution_count": null,
      "outputs": []
    },
    {
      "cell_type": "code",
      "metadata": {
        "id": "x0JwP8qVmDSq"
      },
      "source": [
        "def append_movie_info(movies):\n",
        "  for movie_node in movies:\n",
        "      movie_info.append(dict(\n",
        "          title=get_movie_title(movie_node),\n",
        "          year=get_movie_year(movie_node),\n",
        "          rating=get_movie_rating(movie_node),\n",
        "          genre=get_movie_genre(movie_node),\n",
        "          director=get_movie_director(movie_node),\n",
        "          numberOfVotes=get_movie_votes(movie_node)\n",
        "      ))"
      ],
      "execution_count": null,
      "outputs": []
    },
    {
      "cell_type": "code",
      "metadata": {
        "id": "WDvQqadArf3S"
      },
      "source": [
        "movie_info=[]\n",
        "append_movie_info(movies1)\n",
        "append_movie_info(movies2)\n",
        "append_movie_info(movies3)\n",
        "# movie_info\n",
        "df_movies = pd.DataFrame(movie_info)\n",
        "# df_movies.info()"
      ],
      "execution_count": null,
      "outputs": []
    },
    {
      "cell_type": "markdown",
      "metadata": {
        "id": "DfBAzJgB6QMu"
      },
      "source": [
        "### *Analysis*"
      ]
    },
    {
      "cell_type": "markdown",
      "metadata": {
        "id": "JXKvWb_9GZxx"
      },
      "source": [
        "**Question 1**"
      ]
    },
    {
      "cell_type": "code",
      "metadata": {
        "id": "3X4OcwZ06NPp",
        "colab": {
          "base_uri": "https://localhost:8080/",
          "height": 51
        },
        "outputId": "43d5aad4-ab5c-4968-ce03-2de41a374f4f"
      },
      "source": [
        "maxVote = df_movies.numberOfVotes.max()\n",
        "minVote = df_movies.numberOfVotes.min()\n",
        "print(\"The movie with the most votes is \" + df_movies['title'][df_movies['numberOfVotes'] == maxVote].values[0])\n",
        "print(\"The movie with the least votes is \" + df_movies['title'][df_movies['numberOfVotes'] == minVote].values[0])"
      ],
      "execution_count": null,
      "outputs": [
        {
          "output_type": "stream",
          "text": [
            "The movie with the most votes is The Shawshank Redemption\n",
            "The movie with the least votes is Zulu\n"
          ],
          "name": "stdout"
        }
      ]
    },
    {
      "cell_type": "markdown",
      "metadata": {
        "id": "ixM-CBSyGd0Z"
      },
      "source": [
        "**Question 2**"
      ]
    },
    {
      "cell_type": "code",
      "metadata": {
        "id": "oa7XRHvr6G0f",
        "colab": {
          "base_uri": "https://localhost:8080/",
          "height": 340
        },
        "outputId": "ae6764b3-d982-44b0-c5fd-e6e23ec2b2b0"
      },
      "source": [
        "genre_counts = df_movies.genre.value_counts()\n",
        "genre_counts.plot(kind='bar', title ='Genre vs Movie Count')\n",
        "print('The genre with the most movies is '+ genre_counts.keys()[0])"
      ],
      "execution_count": null,
      "outputs": [
        {
          "output_type": "stream",
          "text": [
            "The genre with the most movies is Drama\n"
          ],
          "name": "stdout"
        },
        {
          "output_type": "display_data",
          "data": {
            "image/png": "[encoded data removed]",
            "text/plain": [
              "<Figure size 432x288 with 1 Axes>"
            ]
          },
          "metadata": {
            "tags": [],
            "needs_background": "light"
          }
        }
      ]
    },
    {
      "cell_type": "markdown",
      "metadata": {
        "id": "MI_6xUoXGk6s"
      },
      "source": [
        "**Question 3**"
      ]
    },
    {
      "cell_type": "code",
      "metadata": {
        "id": "R1C09YLo6uHM",
        "colab": {
          "base_uri": "https://localhost:8080/",
          "height": 120
        },
        "outputId": "ced71cb8-40b0-44ce-d5a9-9c3b02cf94ed"
      },
      "source": [
        "director_counts = df_movies.director.value_counts()\n",
        "print('The top five directors with the most number of movies are: ')\n",
        "for x in range(5):\n",
        "  print(director_counts.keys()[x])"
      ],
      "execution_count": null,
      "outputs": [
        {
          "output_type": "stream",
          "text": [
            "The top five directors with the most number of movies are: \n",
            "Christopher Nolan\n",
            "Stanley Kubrick\n",
            "Steven Spielberg\n",
            "Martin Scorsese\n",
            "Alfred Hitchcock\n"
          ],
          "name": "stdout"
        }
      ]
    },
    {
      "cell_type": "markdown",
      "metadata": {
        "id": "sG1ZFgoJ_1Mh"
      },
      "source": [
        "# **2. Database Access**"
      ]
    },
    {
      "cell_type": "code",
      "metadata": {
        "id": "jTNUmmSoGpaW",
        "colab": {
          "base_uri": "https://localhost:8080/",
          "height": 34
        },
        "outputId": "69d39fb3-4b78-4aee-f012-eb35237e819e"
      },
      "source": [
        "from google.colab import auth\n",
        "auth.authenticate_user()\n",
        "print('Authenticated')"
      ],
      "execution_count": null,
      "outputs": [
        {
          "output_type": "stream",
          "text": [
            "Authenticated\n"
          ],
          "name": "stdout"
        }
      ]
    },
    {
      "cell_type": "code",
      "metadata": {
        "id": "kZMHY-OxGwLV"
      },
      "source": [
        "# For example mine is test-project-ecs189l, so I will run project_id = 'test-project-ecs189l'\n",
        "# project_id = 'Paste Your Project ID here to Replace This String'\n",
        "project_id = \"benjamin-ecs189l\""
      ],
      "execution_count": null,
      "outputs": []
    },
    {
      "cell_type": "code",
      "metadata": {
        "id": "8o2mUO7aHPCp"
      },
      "source": [
        "df_storms = pd.io.gbq.read_gbq('''SELECT\n",
        "  LOWER(event_type) as event_type,\n",
        "  COUNT(event_id) as count_storms,\n",
        "FROM\n",
        "  `bigquery-public-data.noaa_historic_severe_storms.storms_*`\n",
        "WHERE\n",
        "  event_begin_time BETWEEN \"1950-01-01\" AND \"2000-12-31\"\n",
        "GROUP BY\n",
        "  event_type\n",
        "ORDER BY \n",
        "  count_storms DESC\n",
        "''',\n",
        "  project_id=project_id)"
      ],
      "execution_count": null,
      "outputs": []
    },
    {
      "cell_type": "markdown",
      "metadata": {
        "id": "OrDd0COTV6x2"
      },
      "source": [
        "### *Analysis*"
      ]
    },
    {
      "cell_type": "markdown",
      "metadata": {
        "id": "62jCAGYfWK_G"
      },
      "source": [
        "**Question 1**"
      ]
    },
    {
      "cell_type": "code",
      "metadata": {
        "id": "ITB_rIVXV5A8",
        "colab": {
          "base_uri": "https://localhost:8080/",
          "height": 1000
        },
        "outputId": "f2035580-5af7-4352-8903-a15e1c6bbb94"
      },
      "source": [
        "print(\"The 40 most frequent storm event types between years 1950 and 2000 are:\")\n",
        "df_storms.nlargest(40, 'count_storms')"
      ],
      "execution_count": null,
      "outputs": [
        {
          "output_type": "stream",
          "text": [
            "The 40 most frequent storm event types between years 1950 and 2000 are:\n"
          ],
          "name": "stdout"
        },
        {
          "output_type": "execute_result",
          "data": {
            "text/html": [
              "<div>\n",
              "<style scoped>\n",
              "    .dataframe tbody tr th:only-of-type {\n",
              "        vertical-align: middle;\n",
              "    }\n",
              "\n",
              "    .dataframe tbody tr th {\n",
              "        vertical-align: top;\n",
              "    }\n",
              "\n",
              "    .dataframe thead th {\n",
              "        text-align: right;\n",
              "    }\n",
              "</style>\n",
              "<table border=\"1\" class=\"dataframe\">\n",
              "  <thead>\n",
              "    <tr style=\"text-align: right;\">\n",
              "      <th></th>\n",
              "      <th>event_type</th>\n",
              "      <th>count_storms</th>\n",
              "    </tr>\n",
              "  </thead>\n",
              "  <tbody>\n",
              "    <tr>\n",
              "      <th>0</th>\n",
              "      <td>thunderstorm wind</td>\n",
              "      <td>169873</td>\n",
              "    </tr>\n",
              "    <tr>\n",
              "      <th>1</th>\n",
              "      <td>hail</td>\n",
              "      <td>134565</td>\n",
              "    </tr>\n",
              "    <tr>\n",
              "      <th>2</th>\n",
              "      <td>tornado</td>\n",
              "      <td>44202</td>\n",
              "    </tr>\n",
              "    <tr>\n",
              "      <th>3</th>\n",
              "      <td>heavy snow</td>\n",
              "      <td>16010</td>\n",
              "    </tr>\n",
              "    <tr>\n",
              "      <th>4</th>\n",
              "      <td>flash flood</td>\n",
              "      <td>15186</td>\n",
              "    </tr>\n",
              "    <tr>\n",
              "      <th>5</th>\n",
              "      <td>winter storm</td>\n",
              "      <td>15128</td>\n",
              "    </tr>\n",
              "    <tr>\n",
              "      <th>6</th>\n",
              "      <td>high wind</td>\n",
              "      <td>14537</td>\n",
              "    </tr>\n",
              "    <tr>\n",
              "      <th>7</th>\n",
              "      <td>flood</td>\n",
              "      <td>9218</td>\n",
              "    </tr>\n",
              "    <tr>\n",
              "      <th>8</th>\n",
              "      <td>drought</td>\n",
              "      <td>7932</td>\n",
              "    </tr>\n",
              "    <tr>\n",
              "      <th>9</th>\n",
              "      <td>cold/wind chill</td>\n",
              "      <td>5497</td>\n",
              "    </tr>\n",
              "    <tr>\n",
              "      <th>10</th>\n",
              "      <td>heat</td>\n",
              "      <td>5331</td>\n",
              "    </tr>\n",
              "    <tr>\n",
              "      <th>11</th>\n",
              "      <td>lightning</td>\n",
              "      <td>4430</td>\n",
              "    </tr>\n",
              "    <tr>\n",
              "      <th>12</th>\n",
              "      <td>winter weather</td>\n",
              "      <td>4161</td>\n",
              "    </tr>\n",
              "    <tr>\n",
              "      <th>13</th>\n",
              "      <td>ice storm</td>\n",
              "      <td>3898</td>\n",
              "    </tr>\n",
              "    <tr>\n",
              "      <th>14</th>\n",
              "      <td>heavy rain</td>\n",
              "      <td>3553</td>\n",
              "    </tr>\n",
              "    <tr>\n",
              "      <th>15</th>\n",
              "      <td>blizzard</td>\n",
              "      <td>3465</td>\n",
              "    </tr>\n",
              "    <tr>\n",
              "      <th>16</th>\n",
              "      <td>strong wind</td>\n",
              "      <td>3128</td>\n",
              "    </tr>\n",
              "    <tr>\n",
              "      <th>17</th>\n",
              "      <td>dense fog</td>\n",
              "      <td>2076</td>\n",
              "    </tr>\n",
              "    <tr>\n",
              "      <th>18</th>\n",
              "      <td>funnel cloud</td>\n",
              "      <td>1741</td>\n",
              "    </tr>\n",
              "    <tr>\n",
              "      <th>19</th>\n",
              "      <td>extreme cold/wind chill</td>\n",
              "      <td>1713</td>\n",
              "    </tr>\n",
              "    <tr>\n",
              "      <th>20</th>\n",
              "      <td>high surf</td>\n",
              "      <td>1131</td>\n",
              "    </tr>\n",
              "    <tr>\n",
              "      <th>21</th>\n",
              "      <td>waterspout</td>\n",
              "      <td>1077</td>\n",
              "    </tr>\n",
              "    <tr>\n",
              "      <th>22</th>\n",
              "      <td>wildfire</td>\n",
              "      <td>882</td>\n",
              "    </tr>\n",
              "    <tr>\n",
              "      <th>23</th>\n",
              "      <td>hurricane (typhoon)</td>\n",
              "      <td>710</td>\n",
              "    </tr>\n",
              "    <tr>\n",
              "      <th>24</th>\n",
              "      <td>frost/freeze</td>\n",
              "      <td>496</td>\n",
              "    </tr>\n",
              "    <tr>\n",
              "      <th>25</th>\n",
              "      <td>coastal flood</td>\n",
              "      <td>480</td>\n",
              "    </tr>\n",
              "    <tr>\n",
              "      <th>26</th>\n",
              "      <td>excessive heat</td>\n",
              "      <td>378</td>\n",
              "    </tr>\n",
              "    <tr>\n",
              "      <th>27</th>\n",
              "      <td>tropical storm</td>\n",
              "      <td>370</td>\n",
              "    </tr>\n",
              "    <tr>\n",
              "      <th>28</th>\n",
              "      <td>rip current</td>\n",
              "      <td>164</td>\n",
              "    </tr>\n",
              "    <tr>\n",
              "      <th>29</th>\n",
              "      <td>sleet</td>\n",
              "      <td>150</td>\n",
              "    </tr>\n",
              "    <tr>\n",
              "      <th>30</th>\n",
              "      <td>storm surge/tide</td>\n",
              "      <td>135</td>\n",
              "    </tr>\n",
              "    <tr>\n",
              "      <th>31</th>\n",
              "      <td>lake-effect snow</td>\n",
              "      <td>135</td>\n",
              "    </tr>\n",
              "    <tr>\n",
              "      <th>32</th>\n",
              "      <td>avalanche</td>\n",
              "      <td>80</td>\n",
              "    </tr>\n",
              "    <tr>\n",
              "      <th>33</th>\n",
              "      <td>dust storm</td>\n",
              "      <td>63</td>\n",
              "    </tr>\n",
              "    <tr>\n",
              "      <th>34</th>\n",
              "      <td>debris flow</td>\n",
              "      <td>48</td>\n",
              "    </tr>\n",
              "    <tr>\n",
              "      <th>35</th>\n",
              "      <td>freezing fog</td>\n",
              "      <td>37</td>\n",
              "    </tr>\n",
              "    <tr>\n",
              "      <th>36</th>\n",
              "      <td>dust devil</td>\n",
              "      <td>36</td>\n",
              "    </tr>\n",
              "    <tr>\n",
              "      <th>37</th>\n",
              "      <td>seiche</td>\n",
              "      <td>10</td>\n",
              "    </tr>\n",
              "    <tr>\n",
              "      <th>38</th>\n",
              "      <td>astronomical low tide</td>\n",
              "      <td>5</td>\n",
              "    </tr>\n",
              "    <tr>\n",
              "      <th>39</th>\n",
              "      <td>volcanic ash</td>\n",
              "      <td>4</td>\n",
              "    </tr>\n",
              "  </tbody>\n",
              "</table>\n",
              "</div>"
            ],
            "text/plain": [
              "                 event_type  count_storms\n",
              "0         thunderstorm wind        169873\n",
              "1                      hail        134565\n",
              "2                   tornado         44202\n",
              "3                heavy snow         16010\n",
              "4               flash flood         15186\n",
              "5              winter storm         15128\n",
              "6                 high wind         14537\n",
              "7                     flood          9218\n",
              "8                   drought          7932\n",
              "9           cold/wind chill          5497\n",
              "10                     heat          5331\n",
              "11                lightning          4430\n",
              "12           winter weather          4161\n",
              "13                ice storm          3898\n",
              "14               heavy rain          3553\n",
              "15                 blizzard          3465\n",
              "16              strong wind          3128\n",
              "17                dense fog          2076\n",
              "18             funnel cloud          1741\n",
              "19  extreme cold/wind chill          1713\n",
              "20                high surf          1131\n",
              "21               waterspout          1077\n",
              "22                 wildfire           882\n",
              "23      hurricane (typhoon)           710\n",
              "24             frost/freeze           496\n",
              "25            coastal flood           480\n",
              "26           excessive heat           378\n",
              "27           tropical storm           370\n",
              "28              rip current           164\n",
              "29                    sleet           150\n",
              "30         storm surge/tide           135\n",
              "31         lake-effect snow           135\n",
              "32                avalanche            80\n",
              "33               dust storm            63\n",
              "34              debris flow            48\n",
              "35             freezing fog            37\n",
              "36               dust devil            36\n",
              "37                   seiche            10\n",
              "38    astronomical low tide             5\n",
              "39             volcanic ash             4"
            ]
          },
          "metadata": {
            "tags": []
          },
          "execution_count": 20
        }
      ]
    },
    {
      "cell_type": "code",
      "metadata": {
        "id": "RwunCWyQPyjj",
        "colab": {
          "base_uri": "https://localhost:8080/",
          "height": 34
        },
        "outputId": "e77a7481-582a-498f-9c99-ad02c91192e5"
      },
      "source": [
        "print(\"The top event type is \" + df_storms['event_type'][0] + '.')"
      ],
      "execution_count": null,
      "outputs": [
        {
          "output_type": "stream",
          "text": [
            "The top event type is thunderstorm wind.\n"
          ],
          "name": "stdout"
        }
      ]
    },
    {
      "cell_type": "markdown",
      "metadata": {
        "id": "nORzoU6zWNTT"
      },
      "source": [
        "**Question 2**"
      ]
    },
    {
      "cell_type": "code",
      "metadata": {
        "id": "vIc2dTf0-AM7",
        "colab": {
          "base_uri": "https://localhost:8080/",
          "height": 296
        },
        "outputId": "71eb6ca1-80b8-4c8f-adab-2bc6dacc501a"
      },
      "source": [
        "df_tornadoes = pd.io.gbq.read_gbq('''SELECT\n",
        "  CONCAT(SUBSTR(_TABLE_SUFFIX,1,3),'0s') as decade, \n",
        "  COUNT(event_id) AS storm_count,\n",
        "FROM\n",
        "  `bigquery-public-data.noaa_historic_severe_storms.storms_*`\n",
        "WHERE\n",
        "  event_begin_time BETWEEN \"1950-01-01\" AND \"1999-12-31\"\n",
        "  AND (event_type = 'tornado' OR event_type = 'Tornado' or event_type = \"tornadoes\" or event_type = \"Tornadoes\")\n",
        "GROUP BY\n",
        "  decade\n",
        "ORDER BY\n",
        "  decade\n",
        "''',\n",
        "  project_id=project_id)\n",
        "df_tornadoes.plot.bar(rot=0, x='decade')"
      ],
      "execution_count": null,
      "outputs": [
        {
          "output_type": "execute_result",
          "data": {
            "text/plain": [
              "<matplotlib.axes._subplots.AxesSubplot at 0x7fe4dd7bb2e8>"
            ]
          },
          "metadata": {
            "tags": []
          },
          "execution_count": 22
        },
        {
          "output_type": "display_data",
          "data": {
            "image/png": "[encoded data removed]",
            "text/plain": [
              "<Figure size 432x288 with 1 Axes>"
            ]
          },
          "metadata": {
            "tags": [],
            "needs_background": "light"
          }
        }
      ]
    },
    {
      "cell_type": "markdown",
      "metadata": {
        "id": "BJoj_W-2_8QV"
      },
      "source": [
        "# **3. File Download**"
      ]
    },
    {
      "cell_type": "code",
      "metadata": {
        "id": "KSy8LXBYMniy",
        "colab": {
          "base_uri": "https://localhost:8080/",
          "height": 51
        },
        "outputId": "ce67af7d-a978-4bc8-f411-548ab8f3784e"
      },
      "source": [
        "polls_url = 'https://projects.fivethirtyeight.com/polls-page/president_primary_polls.csv'\n",
        "df_presidential_polls = pd.read_csv(polls_url)"
      ],
      "execution_count": null,
      "outputs": [
        {
          "output_type": "stream",
          "text": [
            "/usr/local/lib/python3.6/dist-packages/IPython/core/interactiveshell.py:2718: DtypeWarning: Columns (19) have mixed types.Specify dtype option on import or set low_memory=False.\n",
            "  interactivity=interactivity, compiler=compiler, result=result)\n"
          ],
          "name": "stderr"
        }
      ]
    },
    {
      "cell_type": "markdown",
      "metadata": {
        "id": "z4sxLEP9aAtf"
      },
      "source": [
        "### *Analysis*"
      ]
    },
    {
      "cell_type": "markdown",
      "metadata": {
        "id": "50CRJq6mY2YG"
      },
      "source": [
        "**Question 1**"
      ]
    },
    {
      "cell_type": "code",
      "metadata": {
        "id": "ubte6n1ZYtfP",
        "colab": {
          "base_uri": "https://localhost:8080/",
          "height": 34
        },
        "outputId": "5ef42bea-7f9e-49de-e1fc-2d8fc277bfd0"
      },
      "source": [
        "print(\"Number of unique presidential candidates:\", len(df_presidential_polls.candidate_name.unique()))"
      ],
      "execution_count": null,
      "outputs": [
        {
          "output_type": "stream",
          "text": [
            "Number of unique presidential candidates: 79\n"
          ],
          "name": "stdout"
        }
      ]
    },
    {
      "cell_type": "markdown",
      "metadata": {
        "id": "Ks7BlNtOZCmB"
      },
      "source": [
        "**Question 2**"
      ]
    },
    {
      "cell_type": "code",
      "metadata": {
        "id": "IJilWFZNZESb",
        "colab": {
          "base_uri": "https://localhost:8080/",
          "height": 34
        },
        "outputId": "d9edc39f-8c44-401f-e760-1572f094d0b2"
      },
      "source": [
        "average_sample_size = df_presidential_polls['sample_size'].mean()\n",
        "print(\"The average sample size in the national polls in 2020 is:\", average_sample_size)"
      ],
      "execution_count": null,
      "outputs": [
        {
          "output_type": "stream",
          "text": [
            "The average sample size in the national polls in 2020 is: 1594.0069626693803\n"
          ],
          "name": "stdout"
        }
      ]
    }
  ]
}
