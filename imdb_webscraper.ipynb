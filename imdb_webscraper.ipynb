{
  "nbformat": 4,
  "nbformat_minor": 0,
  "metadata": {
    "colab": {
      "name": "imdb_webscraper.ipynb",
      "provenance": [],
      "collapsed_sections": [],
      "authorship_tag": "ABX9TyMB6lPbRaXs48QmNCQ8IgVg",
      "include_colab_link": true
    },
    "kernelspec": {
      "name": "python3",
      "display_name": "Python 3"
    }
  },
  "cells": [
    {
      "cell_type": "markdown",
      "metadata": {
        "id": "view-in-github",
        "colab_type": "text"
      },
      "source": [
        "<a href=\"https://colab.research.google.com/github/benjamin-dinh/imbd_webscraper/blob/main/imdb_webscraper.ipynb\" target=\"_parent\"><img src=\"https://colab.research.google.com/assets/colab-badge.svg\" alt=\"Open In Colab\"/></a>"
      ]
    },
    {
      "cell_type": "markdown",
      "metadata": {
        "id": "WO2gbOQUZjAM"
      },
      "source": [
        "# **Web Scraper for Top IMDb Movies**\n",
        "\n",
        "---\n",
        "\n"
      ]
    },
    {
      "cell_type": "code",
      "metadata": {
        "id": "JKpF6srsyWyd"
      },
      "source": [
        "import requests\n",
        "from IPython.core.display import HTML"
      ],
      "execution_count": null,
      "outputs": []
    },
    {
      "cell_type": "code",
      "metadata": {
        "id": "RA0-VZRRd_LI"
      },
      "source": [
        "import numpy as np\n",
        "import pandas as pd\n",
        "\n",
        "import requests\n",
        "from bs4 import BeautifulSoup\n",
        "from IPython.display import HTML\n",
        "url1 = \"https://www.imdb.com/list/ls068082370/\"\n",
        "url2 = \"https://www.imdb.com/list/ls068082370/?sort=list_order,asc&st_dt=&mode=detail&page=2\"\n",
        "url3 = \"https://www.imdb.com/list/ls068082370/?sort=list_order,asc&st_dt=&mode=detail&page=3\""
      ],
      "execution_count": null,
      "outputs": []
    },
    {
      "cell_type": "code",
      "metadata": {
        "id": "FowIV-JPeA-l"
      },
      "source": [
        "headers = {'Accept-Language':'en-US,en'}\n",
        "page1 = requests.get(url1, headers=headers)\n",
        "page2 = requests.get(url2, headers=headers)\n",
        "page3 = requests.get(url3, headers=headers)"
      ],
      "execution_count": null,
      "outputs": []
    },
    {
      "cell_type": "code",
      "metadata": {
        "id": "NKlBoPabxT1G"
      },
      "source": [
        "soup1 = BeautifulSoup(page1.content, 'html.parser')\n",
        "soup2 = BeautifulSoup(page2.content, 'html.parser')\n",
        "soup3 = BeautifulSoup(page3.content, 'html.parser')\n",
        "movies1 = soup1.select('div.lister-item.mode-detail')\n",
        "movies2 = soup2.select('div.lister-item.mode-detail')\n",
        "movies3 = soup3.select('div.lister-item.mode-detail')"
      ],
      "execution_count": null,
      "outputs": []
    },
    {
      "cell_type": "code",
      "metadata": {
        "id": "IHKoAi8Er9Kj"
      },
      "source": [
        "def get_movie_title(movie_node):\n",
        "    movie_node = movie_node.select_one('h3 a')\n",
        "    if not movie_node:\n",
        "        return None\n",
        "    return movie_node.text[:]"
      ],
      "execution_count": null,
      "outputs": []
    },
    {
      "cell_type": "code",
      "metadata": {
        "id": "JS8FNkSJnnk5"
      },
      "source": [
        "def get_movie_year(movie_node):\n",
        "    movie_node = movie_node.select_one('span.lister-item-year')\n",
        "    if not movie_node:\n",
        "        return None\n",
        "    return movie_node.text[1:-1]"
      ],
      "execution_count": null,
      "outputs": []
    },
    {
      "cell_type": "code",
      "metadata": {
        "id": "h3qxOFtgoUam"
      },
      "source": [
        "def get_movie_rating(movie_node):\n",
        "    movie_node = movie_node.select_one('span.ipl-rating-star__rating')\n",
        "    if not movie_node:\n",
        "        return None\n",
        "    return movie_node.text[:]"
      ],
      "execution_count": null,
      "outputs": []
    },
    {
      "cell_type": "code",
      "metadata": {
        "id": "8eztMulQoVp_"
      },
      "source": [
        "def get_movie_genre(movie_node):\n",
        "    movie_node = movie_node.select_one('span.genre')\n",
        "    if not movie_node:\n",
        "        return None\n",
        "    movie_node = movie_node.text.strip()\n",
        "    return movie_node.split(',')[0]"
      ],
      "execution_count": null,
      "outputs": []
    },
    {
      "cell_type": "code",
      "metadata": {
        "id": "xf6WLFy1oV-N"
      },
      "source": [
        "def get_movie_director(movie_node):\n",
        "    movie_node = movie_node.select_one('p.text-muted.text-small a')\n",
        "    if not movie_node:\n",
        "        return None\n",
        "    return movie_node.text[:]"
      ],
      "execution_count": null,
      "outputs": []
    },
    {
      "cell_type": "code",
      "metadata": {
        "id": "CTrGklsdobp7"
      },
      "source": [
        "def get_movie_votes(movie_node):\n",
        "    movie_node = movie_node.find('span', {'name':'nv'})\n",
        "    if not movie_node:\n",
        "        return None\n",
        "    return int(movie_node.text[:].replace(',',''))"
      ],
      "execution_count": null,
      "outputs": []
    },
    {
      "cell_type": "code",
      "metadata": {
        "id": "x0JwP8qVmDSq"
      },
      "source": [
        "def append_movie_info(movies):\n",
        "  for movie_node in movies:\n",
        "      movie_info.append(dict(\n",
        "          title=get_movie_title(movie_node),\n",
        "          year=get_movie_year(movie_node),\n",
        "          rating=get_movie_rating(movie_node),\n",
        "          genre=get_movie_genre(movie_node),\n",
        "          director=get_movie_director(movie_node),\n",
        "          numberOfVotes=get_movie_votes(movie_node)\n",
        "      ))"
      ],
      "execution_count": null,
      "outputs": []
    },
    {
      "cell_type": "code",
      "metadata": {
        "id": "WDvQqadArf3S"
      },
      "source": [
        "movie_info=[]\n",
        "append_movie_info(movies1)\n",
        "append_movie_info(movies2)\n",
        "append_movie_info(movies3)\n",
        "# movie_info\n",
        "df_movies = pd.DataFrame(movie_info)\n",
        "# df_movies.info()"
      ],
      "execution_count": null,
      "outputs": []
    },
    {
      "cell_type": "markdown",
      "metadata": {
        "id": "DfBAzJgB6QMu"
      },
      "source": [
        "### *Analysis*"
      ]
    },
    {
      "cell_type": "code",
      "metadata": {
        "id": "3X4OcwZ06NPp",
        "colab": {
          "base_uri": "https://localhost:8080/",
          "height": 51
        },
        "outputId": "43d5aad4-ab5c-4968-ce03-2de41a374f4f"
      },
      "source": [
        "maxVote = df_movies.numberOfVotes.max()\n",
        "minVote = df_movies.numberOfVotes.min()\n",
        "print(\"The movie with the most votes is \" + df_movies['title'][df_movies['numberOfVotes'] == maxVote].values[0])\n",
        "print(\"The movie with the least votes is \" + df_movies['title'][df_movies['numberOfVotes'] == minVote].values[0])"
      ],
      "execution_count": null,
      "outputs": [
        {
          "output_type": "stream",
          "text": [
            "The movie with the most votes is The Shawshank Redemption\n",
            "The movie with the least votes is Zulu\n"
          ],
          "name": "stdout"
        }
      ]
    },
    {
      "cell_type": "code",
      "metadata": {
        "id": "oa7XRHvr6G0f",
        "colab": {
          "base_uri": "https://localhost:8080/",
          "height": 340
        },
        "outputId": "ae6764b3-d982-44b0-c5fd-e6e23ec2b2b0"
      },
      "source": [
        "genre_counts = df_movies.genre.value_counts()\n",
        "genre_counts.plot(kind='bar', title ='Genre vs Movie Count')\n",
        "print('The genre with the most movies is '+ genre_counts.keys()[0])"
      ],
      "execution_count": null,
      "outputs": [
        {
          "output_type": "stream",
          "text": [
            "The genre with the most movies is Drama\n"
          ],
          "name": "stdout"
        },
        {
          "output_type": "display_data",
          "data": {
            "image/png": "[encoded data removed]",
            "text/plain": [
              "<Figure size 432x288 with 1 Axes>"
            ]
          },
          "metadata": {
            "tags": [],
            "needs_background": "light"
          }
        }
      ]
    },
    {
      "cell_type": "code",
      "metadata": {
        "id": "R1C09YLo6uHM",
        "colab": {
          "base_uri": "https://localhost:8080/",
          "height": 120
        },
        "outputId": "ced71cb8-40b0-44ce-d5a9-9c3b02cf94ed"
      },
      "source": [
        "director_counts = df_movies.director.value_counts()\n",
        "print('The top five directors with the most number of movies are: ')\n",
        "for x in range(5):\n",
        "  print(director_counts.keys()[x])"
      ],
      "execution_count": null,
      "outputs": [
        {
          "output_type": "stream",
          "text": [
            "The top five directors with the most number of movies are: \n",
            "Christopher Nolan\n",
            "Stanley Kubrick\n",
            "Steven Spielberg\n",
            "Martin Scorsese\n",
            "Alfred Hitchcock\n"
          ],
          "name": "stdout"
        }
      ]
    }
  ]
}